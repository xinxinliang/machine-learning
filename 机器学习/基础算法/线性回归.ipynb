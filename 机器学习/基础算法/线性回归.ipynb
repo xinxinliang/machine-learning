{
 "cells": [
  {
   "cell_type": "markdown",
   "metadata": {},
   "source": [
    "## 线性回归\n",
    "\n",
    "- > 通过特征预测出结果,结果就叫回归\n",
    "  >\n",
    "  > ![](https://gitee.com/liangxinixn/demo13_drawing_bed/raw/master/blog01/20200705220200.png)\n",
    "  >\n",
    "  > > 额度就是更具预测出来的结果\n",
    "\n",
    "- > 年龄和工资是特征，对我们的结果有影响\n",
    "  >\n",
    "  > 线性回归要做的就是对已有数据进行训练，然后给出特征值预测结果\n",
    "  >\n",
    "  > ![](https://gitee.com/liangxinixn/demo13_drawing_bed/raw/master/blog01/20200705220838.png)\n",
    "\n",
    "- > - 数学推导\n",
    "  > - 第一项乘以x0，x0=1，不影响最终结果\n",
    "  > - 这一样做是为了让公式可以整合起来，便于计算。转换了矩阵运算,应为矩阵运算更高效一些\n",
    "  >\n",
    "  > ![](https://gitee.com/liangxinixn/demo13_drawing_bed/raw/master/blog01/20200705221239.png)\n",
    "  >\n",
    "  > - 存在差异，要加一个误差项，是常量，可正可负\n",
    "  >\n",
    "  > ![](https://gitee.com/liangxinixn/demo13_drawing_bed/raw/master/blog01/20200705221940.png)\n",
    "\n",
    "- > - 对误差的分析\n",
    "  > - 每一条数据的误差是具有独立性的，还服从特定的高斯分布\n",
    "  > - 这是线性回归的核心\n",
    "  > - 选取-1到1区间，他们是相对的，好与坏的可能性是一样的\n",
    "  > - 机器学习不可能认为是完完全全的高斯分布，没有完完全全的独立\n",
    "  > - 只要服从规则，模型只要可用，就是对的\n",
    "  >\n",
    "  > ![](https://gitee.com/liangxinixn/demo13_drawing_bed/raw/master/blog01/20200705222353.png)\n",
    "  >\n",
    "  > - 高斯分布充电\n",
    "  >\n",
    "  > ![](https://gitee.com/liangxinixn/demo13_drawing_bed/raw/master/blog01/20200705223310.png)\n",
    "  >\n",
    "  > - y - 第一项 = 第二项，然后带入标准的高斯分布公式\n",
    "  >\n",
    "  > ![](https://gitee.com/liangxinixn/demo13_drawing_bed/raw/master/blog01/20200705223452.png)\n",
    "  >\n",
    "  > - 对数化简\n",
    "  >\n",
    "  > ![](https://gitee.com/liangxinixn/demo13_drawing_bed/raw/master/blog01/20200705223658.png)\n",
    "  >\n",
    "  > - 再化简，得出结果\n",
    "  >\n",
    "  > ![](https://gitee.com/liangxinixn/demo13_drawing_bed/raw/master/blog01/20200705224157.png)\n",
    "  >\n",
    "  > - 求极值点，极小值\n",
    "  > - 让偏导等于零，这个时候就是极小值，这个地方的误差取最小\n",
    "  >\n",
    "  > \n",
    "  >\n",
    "  > ![](https://gitee.com/liangxinixn/demo13_drawing_bed/raw/master/blog01/20200705224529.png)\n",
    "  >\n",
    "  > - 很多问题是求解不出来sita，要估计\n",
    "  > - 再来看看评估方法，R平方约等于1，就越好\n",
    "  >\n",
    "  > ![](https://gitee.com/liangxinixn/demo13_drawing_bed/raw/master/blog01/20200705224559.png)"
   ]
  },
  {
   "cell_type": "code",
   "execution_count": null,
   "metadata": {},
   "outputs": [],
   "source": []
  }
 ],
 "metadata": {
  "kernelspec": {
   "display_name": "Python 3",
   "language": "python",
   "name": "python3"
  },
  "language_info": {
   "codemirror_mode": {
    "name": "ipython",
    "version": 3
   },
   "file_extension": ".py",
   "mimetype": "text/x-python",
   "name": "python",
   "nbconvert_exporter": "python",
   "pygments_lexer": "ipython3",
   "version": "3.7.7"
  }
 },
 "nbformat": 4,
 "nbformat_minor": 4
}
